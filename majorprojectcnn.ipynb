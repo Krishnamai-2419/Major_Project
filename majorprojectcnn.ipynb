{
 "cells": [
  {
   "cell_type": "code",
   "execution_count": 1,
   "metadata": {
    "_cell_guid": "b1076dfc-b9ad-4769-8c92-a6c4dae69d19",
    "_uuid": "8f2839f25d086af736a60e9eeb907d3b93b6e0e5",
    "execution": {
     "iopub.execute_input": "2023-11-10T16:06:54.360916Z",
     "iopub.status.busy": "2023-11-10T16:06:54.360629Z",
     "iopub.status.idle": "2023-11-10T16:06:56.185171Z",
     "shell.execute_reply": "2023-11-10T16:06:56.184042Z",
     "shell.execute_reply.started": "2023-11-10T16:06:54.360889Z"
    }
   },
   "outputs": [
    {
     "name": "stderr",
     "output_type": "stream",
     "text": [
      "/opt/conda/lib/python3.10/site-packages/scipy/__init__.py:146: UserWarning: A NumPy version >=1.16.5 and <1.23.0 is required for this version of SciPy (detected version 1.23.5\n",
      "  warnings.warn(f\"A NumPy version >={np_minversion} and <{np_maxversion}\"\n"
     ]
    }
   ],
   "source": [
    "import os\n",
    "import shutil\n",
    "from sklearn.model_selection import train_test_split\n"
   ]
  },
  {
   "cell_type": "code",
   "execution_count": 2,
   "metadata": {
    "execution": {
     "iopub.execute_input": "2023-11-10T16:06:56.187177Z",
     "iopub.status.busy": "2023-11-10T16:06:56.186746Z",
     "iopub.status.idle": "2023-11-10T16:06:56.192058Z",
     "shell.execute_reply": "2023-11-10T16:06:56.190958Z",
     "shell.execute_reply.started": "2023-11-10T16:06:56.187149Z"
    }
   },
   "outputs": [],
   "source": [
    "main_data_dir = '/kaggle/input/garbage-classification/garbage_classification'"
   ]
  },
  {
   "cell_type": "code",
   "execution_count": 3,
   "metadata": {
    "execution": {
     "iopub.execute_input": "2023-11-10T16:06:56.193385Z",
     "iopub.status.busy": "2023-11-10T16:06:56.193108Z",
     "iopub.status.idle": "2023-11-10T16:06:56.206572Z",
     "shell.execute_reply": "2023-11-10T16:06:56.205681Z",
     "shell.execute_reply.started": "2023-11-10T16:06:56.193360Z"
    }
   },
   "outputs": [],
   "source": [
    "train_dir = '/kaggle/working/train'\n",
    "test_dir = '/kaggle/working/test'\n",
    "val_dir = '/kaggle/working/valid'"
   ]
  },
  {
   "cell_type": "code",
   "execution_count": 4,
   "metadata": {
    "execution": {
     "iopub.execute_input": "2023-11-10T16:06:56.209794Z",
     "iopub.status.busy": "2023-11-10T16:06:56.209161Z",
     "iopub.status.idle": "2023-11-10T16:06:56.238502Z",
     "shell.execute_reply": "2023-11-10T16:06:56.237673Z",
     "shell.execute_reply.started": "2023-11-10T16:06:56.209761Z"
    }
   },
   "outputs": [],
   "source": [
    "class_directories = [d for d in os.listdir(main_data_dir) if os.path.isdir(os.path.join(main_data_dir, d))]\n"
   ]
  },
  {
   "cell_type": "code",
   "execution_count": 5,
   "metadata": {
    "execution": {
     "iopub.execute_input": "2023-11-10T16:06:56.241233Z",
     "iopub.status.busy": "2023-11-10T16:06:56.240400Z",
     "iopub.status.idle": "2023-11-10T16:06:56.247133Z",
     "shell.execute_reply": "2023-11-10T16:06:56.246010Z",
     "shell.execute_reply.started": "2023-11-10T16:06:56.241200Z"
    }
   },
   "outputs": [],
   "source": [
    "os.makedirs(train_dir, exist_ok=True)\n",
    "os.makedirs(test_dir, exist_ok=True)\n",
    "os.makedirs(val_dir, exist_ok=True)"
   ]
  },
  {
   "cell_type": "code",
   "execution_count": 6,
   "metadata": {
    "execution": {
     "iopub.execute_input": "2023-11-10T16:06:56.248816Z",
     "iopub.status.busy": "2023-11-10T16:06:56.248485Z",
     "iopub.status.idle": "2023-11-10T16:09:42.729952Z",
     "shell.execute_reply": "2023-11-10T16:09:42.728874Z",
     "shell.execute_reply.started": "2023-11-10T16:06:56.248786Z"
    }
   },
   "outputs": [],
   "source": [
    "for class_dir in class_directories:\n",
    "    class_path = os.path.join(main_data_dir, class_dir)\n",
    "    \n",
    "    # Get the list of all images in the class directory\n",
    "    all_images = [img for img in os.listdir(class_path) if img.endswith('.jpg')]\n",
    "    \n",
    "    # Split the data into train, test, and validation sets\n",
    "    train_images, test_val_images = train_test_split(all_images, test_size=0.3, random_state=42)\n",
    "    test_images, val_images = train_test_split(test_val_images, test_size=0.5, random_state=42)\n",
    "    \n",
    "    for img in train_images:\n",
    "        src = os.path.join(class_path, img)\n",
    "        dest = os.path.join(train_dir, class_dir, img)\n",
    "        os.makedirs(os.path.dirname(dest), exist_ok=True)\n",
    "        shutil.copy(src, dest)\n",
    "    \n",
    "    for img in test_images:\n",
    "        src = os.path.join(class_path, img)\n",
    "        dest = os.path.join(test_dir, class_dir, img)\n",
    "        os.makedirs(os.path.dirname(dest), exist_ok=True)\n",
    "        shutil.copy(src, dest)\n",
    "    \n",
    "    for img in val_images:\n",
    "        src = os.path.join(class_path, img)\n",
    "        dest = os.path.join(val_dir, class_dir, img)\n",
    "        os.makedirs(os.path.dirname(dest), exist_ok=True)\n",
    "        shutil.copy(src, dest)"
   ]
  },
  {
   "cell_type": "code",
   "execution_count": 7,
   "metadata": {
    "execution": {
     "iopub.execute_input": "2023-11-10T16:09:42.731529Z",
     "iopub.status.busy": "2023-11-10T16:09:42.731217Z",
     "iopub.status.idle": "2023-11-10T16:09:59.015787Z",
     "shell.execute_reply": "2023-11-10T16:09:59.014966Z",
     "shell.execute_reply.started": "2023-11-10T16:09:42.731501Z"
    }
   },
   "outputs": [
    {
     "name": "stdout",
     "output_type": "stream",
     "text": [
      "Found 10854 images belonging to 12 classes.\n",
      "Found 2333 images belonging to 12 classes.\n",
      "Found 2328 images belonging to 12 classes.\n"
     ]
    }
   ],
   "source": [
    "import os\n",
    "from tensorflow.keras.preprocessing.image import ImageDataGenerator\n",
    "from tensorflow.keras.applications import ResNet50, VGG16, InceptionV3\n",
    "from tensorflow.keras.models import Sequential\n",
    "from tensorflow.keras.layers import Dense, GlobalAveragePooling2D\n",
    "\n",
    "# Image dimensions\n",
    "img_width, img_height = 224, 224\n",
    "input_shape = (img_width, img_height, 3)\n",
    "\n",
    "# Data augmentation for training set\n",
    "train_datagen = ImageDataGenerator(rescale=1./255, shear_range=0.2, zoom_range=0.2, horizontal_flip=True)\n",
    "val_datagen = ImageDataGenerator(rescale=1./255)\n",
    "test_datagen = ImageDataGenerator(rescale=1./255)\n",
    "\n",
    "# Generate batches of augmented data for training and validation\n",
    "train_generator = train_datagen.flow_from_directory(train_dir, target_size=(img_width, img_height), batch_size=32, class_mode='categorical')\n",
    "val_generator = val_datagen.flow_from_directory(val_dir, target_size=(img_width, img_height), batch_size=32, class_mode='categorical')\n",
    "\n",
    "\n",
    "# Generate batches of augmented data for testing\n",
    "test_generator = test_datagen.flow_from_directory(test_dir, target_size=(img_width, img_height), batch_size=32, class_mode='categorical')\n"
   ]
  },
  {
   "cell_type": "code",
   "execution_count": 8,
   "metadata": {
    "execution": {
     "iopub.execute_input": "2023-11-10T16:09:59.017392Z",
     "iopub.status.busy": "2023-11-10T16:09:59.016867Z",
     "iopub.status.idle": "2023-11-10T16:49:27.077711Z",
     "shell.execute_reply": "2023-11-10T16:49:27.076655Z",
     "shell.execute_reply.started": "2023-11-10T16:09:59.017363Z"
    }
   },
   "outputs": [
    {
     "name": "stdout",
     "output_type": "stream",
     "text": [
      "Epoch 1/20\n",
      "340/340 [==============================] - 132s 344ms/step - loss: 1.7242 - accuracy: 0.4979 - val_loss: 1.2753 - val_accuracy: 0.6074\n",
      "Epoch 2/20\n",
      "340/340 [==============================] - 117s 344ms/step - loss: 1.1145 - accuracy: 0.6282 - val_loss: 1.0127 - val_accuracy: 0.6687\n",
      "Epoch 3/20\n",
      "340/340 [==============================] - 117s 343ms/step - loss: 0.9371 - accuracy: 0.6860 - val_loss: 0.9861 - val_accuracy: 0.6734\n",
      "Epoch 4/20\n",
      "340/340 [==============================] - 119s 350ms/step - loss: 0.8328 - accuracy: 0.7207 - val_loss: 0.9030 - val_accuracy: 0.7201\n",
      "Epoch 5/20\n",
      "340/340 [==============================] - 116s 341ms/step - loss: 0.7605 - accuracy: 0.7470 - val_loss: 1.0639 - val_accuracy: 0.6794\n",
      "Epoch 6/20\n",
      "340/340 [==============================] - 118s 346ms/step - loss: 0.6864 - accuracy: 0.7746 - val_loss: 0.9038 - val_accuracy: 0.7235\n",
      "Epoch 7/20\n",
      "340/340 [==============================] - 118s 347ms/step - loss: 0.6309 - accuracy: 0.7924 - val_loss: 0.8411 - val_accuracy: 0.7540\n",
      "Epoch 8/20\n",
      "340/340 [==============================] - 117s 343ms/step - loss: 0.5797 - accuracy: 0.8114 - val_loss: 0.8780 - val_accuracy: 0.7342\n",
      "Epoch 9/20\n",
      "340/340 [==============================] - 117s 343ms/step - loss: 0.5154 - accuracy: 0.8308 - val_loss: 0.8378 - val_accuracy: 0.7643\n",
      "Epoch 10/20\n",
      "340/340 [==============================] - 116s 342ms/step - loss: 0.4946 - accuracy: 0.8390 - val_loss: 0.8543 - val_accuracy: 0.7600\n",
      "Epoch 11/20\n",
      "340/340 [==============================] - 115s 339ms/step - loss: 0.4658 - accuracy: 0.8453 - val_loss: 1.0444 - val_accuracy: 0.7175\n",
      "Epoch 12/20\n",
      "340/340 [==============================] - 116s 341ms/step - loss: 0.4208 - accuracy: 0.8606 - val_loss: 1.0110 - val_accuracy: 0.7257\n",
      "Epoch 13/20\n",
      "340/340 [==============================] - 117s 343ms/step - loss: 0.4163 - accuracy: 0.8660 - val_loss: 0.9149 - val_accuracy: 0.7608\n",
      "Epoch 14/20\n",
      "340/340 [==============================] - 116s 340ms/step - loss: 0.3774 - accuracy: 0.8778 - val_loss: 0.9606 - val_accuracy: 0.7428\n",
      "Epoch 15/20\n",
      "340/340 [==============================] - 116s 340ms/step - loss: 0.3518 - accuracy: 0.8855 - val_loss: 0.9065 - val_accuracy: 0.7660\n",
      "Epoch 16/20\n",
      "340/340 [==============================] - 116s 342ms/step - loss: 0.3370 - accuracy: 0.8912 - val_loss: 1.0392 - val_accuracy: 0.7625\n",
      "Epoch 17/20\n",
      "340/340 [==============================] - 116s 342ms/step - loss: 0.3201 - accuracy: 0.8938 - val_loss: 0.9797 - val_accuracy: 0.7625\n",
      "Epoch 18/20\n",
      "340/340 [==============================] - 117s 345ms/step - loss: 0.2840 - accuracy: 0.9055 - val_loss: 1.0012 - val_accuracy: 0.7741\n",
      "Epoch 19/20\n",
      "340/340 [==============================] - 124s 365ms/step - loss: 0.2894 - accuracy: 0.9077 - val_loss: 1.0132 - val_accuracy: 0.7660\n",
      "Epoch 20/20\n",
      "340/340 [==============================] - 121s 355ms/step - loss: 0.2611 - accuracy: 0.9137 - val_loss: 1.1001 - val_accuracy: 0.7587\n"
     ]
    },
    {
     "data": {
      "text/plain": [
       "<keras.callbacks.History at 0x7e42a150ce50>"
      ]
     },
     "execution_count": 8,
     "metadata": {},
     "output_type": "execute_result"
    }
   ],
   "source": [
    "from tensorflow.keras.layers import Conv2D, MaxPooling2D, Flatten, Dense\n",
    "cnn_model = Sequential()\n",
    "cnn_model.add(Conv2D(32, (3, 3), activation='relu', input_shape=input_shape))\n",
    "cnn_model.add(MaxPooling2D(pool_size=(2, 2)))\n",
    "cnn_model.add(Conv2D(64, (3, 3), activation='relu'))\n",
    "cnn_model.add(MaxPooling2D(pool_size=(2, 2)))\n",
    "cnn_model.add(Flatten())\n",
    "cnn_model.add(Dense(128, activation='relu'))\n",
    "cnn_model.add(Dense(12, activation='softmax'))\n",
    "\n",
    "cnn_model.compile(optimizer='adam', loss='categorical_crossentropy', metrics=['accuracy'])\n",
    "cnn_model.fit(train_generator, epochs=20, validation_data=val_generator)"
   ]
  },
  {
   "cell_type": "code",
   "execution_count": 9,
   "metadata": {
    "execution": {
     "iopub.execute_input": "2023-11-10T16:49:27.079777Z",
     "iopub.status.busy": "2023-11-10T16:49:27.079095Z",
     "iopub.status.idle": "2023-11-10T16:49:31.407028Z",
     "shell.execute_reply": "2023-11-10T16:49:31.406127Z",
     "shell.execute_reply.started": "2023-11-10T16:49:27.079739Z"
    }
   },
   "outputs": [
    {
     "name": "stdout",
     "output_type": "stream",
     "text": [
      "73/73 [==============================] - 4s 57ms/step - loss: 1.0851 - accuracy: 0.7607\n"
     ]
    },
    {
     "data": {
      "text/plain": [
       "[1.0851374864578247, 0.7607388496398926]"
      ]
     },
     "execution_count": 9,
     "metadata": {},
     "output_type": "execute_result"
    }
   ],
   "source": [
    "cnn_model.evaluate(test_generator)"
   ]
  }
 ],
 "metadata": {
  "kaggle": {
   "accelerator": "nvidiaTeslaT4",
   "dataSources": [
    {
     "datasetId": 1115942,
     "sourceId": 1874598,
     "sourceType": "datasetVersion"
    },
    {
     "datasetId": 3979954,
     "sourceId": 6931321,
     "sourceType": "datasetVersion"
    },
    {
     "datasetId": 3980158,
     "sourceId": 6931649,
     "sourceType": "datasetVersion"
    }
   ],
   "dockerImageVersionId": 30559,
   "isGpuEnabled": true,
   "isInternetEnabled": false,
   "language": "python",
   "sourceType": "notebook"
  },
  "kernelspec": {
   "display_name": "Python 3 (ipykernel)",
   "language": "python",
   "name": "python3"
  },
  "language_info": {
   "codemirror_mode": {
    "name": "ipython",
    "version": 3
   },
   "file_extension": ".py",
   "mimetype": "text/x-python",
   "name": "python",
   "nbconvert_exporter": "python",
   "pygments_lexer": "ipython3",
   "version": "3.9.12"
  }
 },
 "nbformat": 4,
 "nbformat_minor": 4
}
