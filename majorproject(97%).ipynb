{
 "cells": [
  {
   "cell_type": "code",
   "execution_count": 1,
   "metadata": {
    "_cell_guid": "b1076dfc-b9ad-4769-8c92-a6c4dae69d19",
    "_uuid": "8f2839f25d086af736a60e9eeb907d3b93b6e0e5",
    "execution": {
     "iopub.execute_input": "2023-11-10T12:29:00.952751Z",
     "iopub.status.busy": "2023-11-10T12:29:00.952465Z",
     "iopub.status.idle": "2023-11-10T12:29:12.506273Z",
     "shell.execute_reply": "2023-11-10T12:29:12.505484Z",
     "shell.execute_reply.started": "2023-11-10T12:29:00.952726Z"
    }
   },
   "outputs": [
    {
     "name": "stderr",
     "output_type": "stream",
     "text": [
      "/opt/conda/lib/python3.10/site-packages/scipy/__init__.py:146: UserWarning: A NumPy version >=1.16.5 and <1.23.0 is required for this version of SciPy (detected version 1.24.3\n",
      "  warnings.warn(f\"A NumPy version >={np_minversion} and <{np_maxversion}\"\n"
     ]
    }
   ],
   "source": [
    "import tensorflow as tf\n",
    "from tensorflow.keras.preprocessing.image import ImageDataGenerator\n",
    "from tensorflow.keras import optimizers\n",
    "from tensorflow.keras.models import Sequential, Model, load_model\n",
    "from tensorflow.keras.layers import Dropout, Flatten, Dense\n",
    "import os\n",
    "import numpy as np\n",
    "import matplotlib.pyplot as plt"
   ]
  },
  {
   "cell_type": "code",
   "execution_count": 2,
   "metadata": {
    "execution": {
     "iopub.execute_input": "2023-11-10T12:29:13.552994Z",
     "iopub.status.busy": "2023-11-10T12:29:13.552020Z",
     "iopub.status.idle": "2023-11-10T12:29:13.557095Z",
     "shell.execute_reply": "2023-11-10T12:29:13.556052Z",
     "shell.execute_reply.started": "2023-11-10T12:29:13.552957Z"
    }
   },
   "outputs": [],
   "source": [
    "main_data_dir = '/kaggle/input/garbage-classification/garbage_classification'"
   ]
  },
  {
   "cell_type": "code",
   "execution_count": 3,
   "metadata": {
    "execution": {
     "iopub.execute_input": "2023-11-10T12:29:26.412978Z",
     "iopub.status.busy": "2023-11-10T12:29:26.412346Z",
     "iopub.status.idle": "2023-11-10T12:29:26.417416Z",
     "shell.execute_reply": "2023-11-10T12:29:26.416384Z",
     "shell.execute_reply.started": "2023-11-10T12:29:26.412945Z"
    }
   },
   "outputs": [],
   "source": [
    "train_dir = '/kaggle/working/train'\n",
    "test_dir = '/kaggle/working/test'\n",
    "val_dir = '/kaggle/working/valid'"
   ]
  },
  {
   "cell_type": "code",
   "execution_count": 4,
   "metadata": {
    "execution": {
     "iopub.execute_input": "2023-11-10T12:29:30.177206Z",
     "iopub.status.busy": "2023-11-10T12:29:30.176331Z",
     "iopub.status.idle": "2023-11-10T12:29:30.194380Z",
     "shell.execute_reply": "2023-11-10T12:29:30.193654Z",
     "shell.execute_reply.started": "2023-11-10T12:29:30.177171Z"
    }
   },
   "outputs": [],
   "source": [
    "class_directories = [d for d in os.listdir(main_data_dir) if os.path.isdir(os.path.join(main_data_dir, d))]"
   ]
  },
  {
   "cell_type": "code",
   "execution_count": 5,
   "metadata": {
    "execution": {
     "iopub.execute_input": "2023-11-10T12:29:33.988726Z",
     "iopub.status.busy": "2023-11-10T12:29:33.988366Z",
     "iopub.status.idle": "2023-11-10T12:29:33.993720Z",
     "shell.execute_reply": "2023-11-10T12:29:33.992790Z",
     "shell.execute_reply.started": "2023-11-10T12:29:33.988698Z"
    }
   },
   "outputs": [],
   "source": [
    "os.makedirs(train_dir, exist_ok=True)\n",
    "os.makedirs(test_dir, exist_ok=True)\n",
    "os.makedirs(val_dir, exist_ok=True)"
   ]
  },
  {
   "cell_type": "code",
   "execution_count": 6,
   "metadata": {
    "execution": {
     "iopub.execute_input": "2023-11-10T12:29:57.577757Z",
     "iopub.status.busy": "2023-11-10T12:29:57.577373Z",
     "iopub.status.idle": "2023-11-10T12:31:56.390194Z",
     "shell.execute_reply": "2023-11-10T12:31:56.389138Z",
     "shell.execute_reply.started": "2023-11-10T12:29:57.577724Z"
    }
   },
   "outputs": [],
   "source": [
    "import shutil\n",
    "from sklearn.model_selection import train_test_split\n",
    "for class_dir in class_directories:\n",
    "    class_path = os.path.join(main_data_dir, class_dir)\n",
    "    \n",
    "    # Get the list of all images in the class directory\n",
    "    all_images = [img for img in os.listdir(class_path) if img.endswith('.jpg')]\n",
    "    \n",
    "    # Split the data into train, test, and validation sets\n",
    "    train_images, test_val_images = train_test_split(all_images, test_size=0.3, random_state=42)\n",
    "    test_images, val_images = train_test_split(test_val_images, test_size=0.5, random_state=42)\n",
    "    \n",
    "    for img in train_images:\n",
    "        src = os.path.join(class_path, img)\n",
    "        dest = os.path.join(train_dir, class_dir, img)\n",
    "        os.makedirs(os.path.dirname(dest), exist_ok=True)\n",
    "        shutil.copy(src, dest)\n",
    "    \n",
    "    for img in test_images:\n",
    "        src = os.path.join(class_path, img)\n",
    "        dest = os.path.join(test_dir, class_dir, img)\n",
    "        os.makedirs(os.path.dirname(dest), exist_ok=True)\n",
    "        shutil.copy(src, dest)\n",
    "    \n",
    "    for img in val_images:\n",
    "        src = os.path.join(class_path, img)\n",
    "        dest = os.path.join(val_dir, class_dir, img)\n",
    "        os.makedirs(os.path.dirname(dest), exist_ok=True)\n",
    "        shutil.copy(src, dest)"
   ]
  },
  {
   "cell_type": "code",
   "execution_count": 7,
   "metadata": {
    "execution": {
     "iopub.execute_input": "2023-11-10T12:31:59.536411Z",
     "iopub.status.busy": "2023-11-10T12:31:59.536043Z",
     "iopub.status.idle": "2023-11-10T12:32:00.046569Z",
     "shell.execute_reply": "2023-11-10T12:32:00.045590Z",
     "shell.execute_reply.started": "2023-11-10T12:31:59.536383Z"
    }
   },
   "outputs": [
    {
     "name": "stdout",
     "output_type": "stream",
     "text": [
      "Found 10854 images belonging to 12 classes.\n",
      "Found 2333 images belonging to 12 classes.\n",
      "Found 2328 images belonging to 12 classes.\n"
     ]
    }
   ],
   "source": [
    "import os\n",
    "from tensorflow.keras.preprocessing.image import ImageDataGenerator\n",
    "from tensorflow.keras.applications import ResNet50, VGG16, InceptionV3\n",
    "from tensorflow.keras.models import Sequential\n",
    "from tensorflow.keras.layers import Dense, GlobalAveragePooling2D\n",
    "\n",
    "# Image dimensions\n",
    "img_width, img_height = 224,224\n",
    "input_shape = (img_width, img_height, 3)\n",
    "\n",
    "# Data augmentation for training set\n",
    "train_datagen = ImageDataGenerator(rescale=1./255, shear_range=0.2, zoom_range=0.2, horizontal_flip=True)\n",
    "val_datagen = ImageDataGenerator(rescale=1./255)\n",
    "test_datagen = ImageDataGenerator(rescale=1./255)\n",
    "\n",
    "# Generate batches of augmented data for training and validation\n",
    "train_generator = train_datagen.flow_from_directory(train_dir, target_size=(img_width, img_height), batch_size=32, class_mode='categorical')\n",
    "val_generator = val_datagen.flow_from_directory(val_dir, target_size=(img_width, img_height), batch_size=32, class_mode='categorical')\n",
    "\n",
    "\n",
    "# Generate batches of augmented data for testing\n",
    "test_generator = test_datagen.flow_from_directory(test_dir, target_size=(img_width, img_height), batch_size=32, class_mode='categorical')\n"
   ]
  },
  {
   "cell_type": "code",
   "execution_count": 10,
   "metadata": {
    "execution": {
     "iopub.execute_input": "2023-11-10T12:53:08.804948Z",
     "iopub.status.busy": "2023-11-10T12:53:08.804082Z",
     "iopub.status.idle": "2023-11-10T13:34:55.133154Z",
     "shell.execute_reply": "2023-11-10T13:34:55.132153Z",
     "shell.execute_reply.started": "2023-11-10T12:53:08.804912Z"
    }
   },
   "outputs": [
    {
     "name": "stdout",
     "output_type": "stream",
     "text": [
      "Downloading data from https://storage.googleapis.com/tensorflow/keras-applications/vgg16/vgg16_weights_tf_dim_ordering_tf_kernels_notop.h5\n",
      "58889256/58889256 [==============================] - 0s 0us/step\n",
      "Epoch 1/30\n",
      "340/340 [==============================] - ETA: 0s - loss: 0.9609 - accuracy: 0.7045"
     ]
    },
    {
     "name": "stderr",
     "output_type": "stream",
     "text": [
      "/opt/conda/lib/python3.10/site-packages/keras/src/engine/training.py:3000: UserWarning: You are saving your model as an HDF5 file via `model.save()`. This file format is considered legacy. We recommend using instead the native Keras format, e.g. `model.save('my_model.keras')`.\n",
      "  saving_api.save_model(\n"
     ]
    },
    {
     "name": "stdout",
     "output_type": "stream",
     "text": [
      "340/340 [==============================] - 126s 357ms/step - loss: 0.9609 - accuracy: 0.7045 - val_loss: 0.7230 - val_accuracy: 0.7943 - lr: 1.0000e-04\n",
      "Epoch 2/30\n",
      "340/340 [==============================] - 119s 350ms/step - loss: 0.5516 - accuracy: 0.8261 - val_loss: 0.5291 - val_accuracy: 0.8504 - lr: 1.0000e-04\n",
      "Epoch 3/30\n",
      "340/340 [==============================] - 119s 350ms/step - loss: 0.4423 - accuracy: 0.8608 - val_loss: 0.4656 - val_accuracy: 0.8594 - lr: 1.0000e-04\n",
      "Epoch 4/30\n",
      "340/340 [==============================] - 119s 348ms/step - loss: 0.3664 - accuracy: 0.8801 - val_loss: 0.4548 - val_accuracy: 0.8551 - lr: 1.0000e-04\n",
      "Epoch 5/30\n",
      "340/340 [==============================] - 117s 345ms/step - loss: 0.3206 - accuracy: 0.8996 - val_loss: 0.5363 - val_accuracy: 0.8238 - lr: 1.0000e-04\n",
      "Epoch 6/30\n",
      "340/340 [==============================] - 119s 350ms/step - loss: 0.2738 - accuracy: 0.9146 - val_loss: 0.3887 - val_accuracy: 0.8877 - lr: 1.0000e-05\n",
      "Epoch 7/30\n",
      "340/340 [==============================] - 119s 348ms/step - loss: 0.2529 - accuracy: 0.9221 - val_loss: 0.4032 - val_accuracy: 0.8757 - lr: 1.0000e-05\n",
      "Epoch 8/30\n",
      "340/340 [==============================] - 120s 353ms/step - loss: 0.2361 - accuracy: 0.9292 - val_loss: 0.3670 - val_accuracy: 0.8907 - lr: 1.0000e-05\n",
      "Epoch 9/30\n",
      "340/340 [==============================] - 119s 350ms/step - loss: 0.2266 - accuracy: 0.9313 - val_loss: 0.3583 - val_accuracy: 0.8911 - lr: 1.0000e-05\n",
      "Epoch 10/30\n",
      "340/340 [==============================] - 119s 349ms/step - loss: 0.2123 - accuracy: 0.9328 - val_loss: 0.3632 - val_accuracy: 0.8864 - lr: 1.0000e-05\n",
      "Epoch 11/30\n",
      "340/340 [==============================] - 118s 348ms/step - loss: 0.2073 - accuracy: 0.9356 - val_loss: 0.3520 - val_accuracy: 0.8941 - lr: 1.0000e-06\n",
      "Epoch 12/30\n",
      "340/340 [==============================] - 118s 346ms/step - loss: 0.2006 - accuracy: 0.9385 - val_loss: 0.3627 - val_accuracy: 0.8886 - lr: 1.0000e-06\n",
      "Epoch 13/30\n",
      "340/340 [==============================] - 118s 347ms/step - loss: 0.1946 - accuracy: 0.9401 - val_loss: 0.3496 - val_accuracy: 0.8941 - lr: 1.0000e-06\n",
      "Epoch 14/30\n",
      "340/340 [==============================] - 119s 349ms/step - loss: 0.2056 - accuracy: 0.9341 - val_loss: 0.3627 - val_accuracy: 0.8864 - lr: 1.0000e-06\n",
      "Epoch 15/30\n",
      "340/340 [==============================] - 119s 349ms/step - loss: 0.2062 - accuracy: 0.9372 - val_loss: 0.3637 - val_accuracy: 0.8894 - lr: 1.0000e-06\n",
      "Epoch 16/30\n",
      "340/340 [==============================] - 119s 349ms/step - loss: 0.1998 - accuracy: 0.9385 - val_loss: 0.3493 - val_accuracy: 0.8950 - lr: 1.0000e-06\n",
      "Epoch 17/30\n",
      "340/340 [==============================] - 119s 349ms/step - loss: 0.1997 - accuracy: 0.9405 - val_loss: 0.3553 - val_accuracy: 0.8898 - lr: 1.0000e-06\n",
      "Epoch 18/30\n",
      "340/340 [==============================] - 118s 348ms/step - loss: 0.2016 - accuracy: 0.9379 - val_loss: 0.3507 - val_accuracy: 0.8920 - lr: 1.0000e-06\n",
      "Epoch 19/30\n",
      "340/340 [==============================] - 118s 347ms/step - loss: 0.1928 - accuracy: 0.9435 - val_loss: 0.3592 - val_accuracy: 0.8898 - lr: 1.0000e-06\n",
      "Epoch 20/30\n",
      "340/340 [==============================] - 120s 352ms/step - loss: 0.1888 - accuracy: 0.9407 - val_loss: 0.3496 - val_accuracy: 0.8950 - lr: 1.0000e-06\n",
      "Epoch 21/30\n",
      "340/340 [==============================] - 118s 347ms/step - loss: 0.1855 - accuracy: 0.9441 - val_loss: 0.3547 - val_accuracy: 0.8898 - lr: 1.0000e-06\n",
      "73/73 [==============================] - 7s 89ms/step - loss: 0.3504 - accuracy: 0.8883\n",
      "Updated VGG16 Test Accuracy: 0.8883161544799805\n"
     ]
    }
   ],
   "source": [
    "from tensorflow.keras.applications import VGG16\n",
    "from tensorflow.keras.layers import Dropout, Flatten, Dense, BatchNormalization\n",
    "from tensorflow.keras.callbacks import LearningRateScheduler, EarlyStopping, ModelCheckpoint\n",
    "\n",
    "# ...\n",
    "\n",
    "# Learning Rate Schedule\n",
    "def learning_rate_schedule(epoch):\n",
    "    if epoch < 5:\n",
    "        return 1e-4\n",
    "    elif epoch < 10:\n",
    "        return 1e-5\n",
    "    else:\n",
    "        return 1e-6\n",
    "\n",
    "lr_scheduler = LearningRateScheduler(learning_rate_schedule)\n",
    "\n",
    "# Early Stopping\n",
    "early_stopping = EarlyStopping(monitor='val_accuracy', patience=5, restore_best_weights=True)\n",
    "\n",
    "# Model Checkpointing\n",
    "checkpoint = ModelCheckpoint('/kaggle/working/best_vgg16_model.h5', \n",
    "                             monitor='val_accuracy', \n",
    "                             save_best_only=True)\n",
    "\n",
    "# VGG16\n",
    "vgg16_model = Sequential()\n",
    "vgg16_model.add(VGG16(weights='imagenet', include_top=False, input_shape=input_shape))\n",
    "vgg16_model.add(BatchNormalization())\n",
    "vgg16_model.add(Flatten())\n",
    "vgg16_model.add(Dense(512, activation='relu'))\n",
    "vgg16_model.add(BatchNormalization())\n",
    "vgg16_model.add(Dropout(0.5))\n",
    "vgg16_model.add(Dense(256, activation='relu'))\n",
    "vgg16_model.add(Dense(12, activation='softmax'))\n",
    "\n",
    "# Fine-tune last few layers\n",
    "for layer in vgg16_model.layers[:-6]:\n",
    "    layer.trainable = False\n",
    "\n",
    "vgg16_model.compile(optimizer='adam', loss='categorical_crossentropy', metrics=['accuracy'])\n",
    "\n",
    "# Train the model\n",
    "history_vgg16 = vgg16_model.fit(train_generator, epochs=30, \n",
    "                                validation_data=val_generator,\n",
    "                                callbacks=[lr_scheduler, early_stopping, checkpoint])\n",
    "\n",
    "# Evaluate on the test set\n",
    "test_loss_vgg16, test_accuracy_vgg16 = vgg16_model.evaluate(test_generator)\n",
    "print(f\"Updated VGG16 Test Accuracy: {test_accuracy_vgg16}\")\n"
   ]
  },
  {
   "cell_type": "code",
   "execution_count": 11,
   "metadata": {
    "execution": {
     "iopub.execute_input": "2023-11-10T13:36:11.330325Z",
     "iopub.status.busy": "2023-11-10T13:36:11.329383Z",
     "iopub.status.idle": "2023-11-10T14:05:06.862079Z",
     "shell.execute_reply": "2023-11-10T14:05:06.861230Z",
     "shell.execute_reply.started": "2023-11-10T13:36:11.330292Z"
    }
   },
   "outputs": [
    {
     "name": "stdout",
     "output_type": "stream",
     "text": [
      "Downloading data from https://storage.googleapis.com/tensorflow/keras-applications/resnet/resnet50_weights_tf_dim_ordering_tf_kernels_notop.h5\n",
      "94765736/94765736 [==============================] - 1s 0us/step\n",
      "Epoch 1/30\n",
      "340/340 [==============================] - 161s 361ms/step - loss: 0.6137 - accuracy: 0.8124 - val_loss: 2.9822 - val_accuracy: 0.0587 - lr: 1.0000e-04\n",
      "Epoch 2/30\n",
      "340/340 [==============================] - 121s 355ms/step - loss: 0.2517 - accuracy: 0.9212 - val_loss: 1.4468 - val_accuracy: 0.6001 - lr: 1.0000e-04\n",
      "Epoch 3/30\n",
      "340/340 [==============================] - 121s 354ms/step - loss: 0.1763 - accuracy: 0.9456 - val_loss: 0.2800 - val_accuracy: 0.9147 - lr: 1.0000e-04\n",
      "Epoch 4/30\n",
      "340/340 [==============================] - 121s 354ms/step - loss: 0.1265 - accuracy: 0.9596 - val_loss: 0.1800 - val_accuracy: 0.9511 - lr: 1.0000e-04\n",
      "Epoch 5/30\n",
      "340/340 [==============================] - 120s 353ms/step - loss: 0.1103 - accuracy: 0.9651 - val_loss: 0.2500 - val_accuracy: 0.9276 - lr: 1.0000e-04\n",
      "Epoch 6/30\n",
      "340/340 [==============================] - 121s 355ms/step - loss: 0.0624 - accuracy: 0.9813 - val_loss: 0.0980 - val_accuracy: 0.9674 - lr: 1.0000e-05\n",
      "Epoch 7/30\n",
      "340/340 [==============================] - 121s 355ms/step - loss: 0.0457 - accuracy: 0.9852 - val_loss: 0.0895 - val_accuracy: 0.9734 - lr: 1.0000e-05\n",
      "Epoch 8/30\n",
      "340/340 [==============================] - 120s 353ms/step - loss: 0.0324 - accuracy: 0.9900 - val_loss: 0.0871 - val_accuracy: 0.9734 - lr: 1.0000e-05\n",
      "Epoch 9/30\n",
      "340/340 [==============================] - 121s 355ms/step - loss: 0.0301 - accuracy: 0.9908 - val_loss: 0.0841 - val_accuracy: 0.9751 - lr: 1.0000e-05\n",
      "Epoch 10/30\n",
      "340/340 [==============================] - 120s 351ms/step - loss: 0.0235 - accuracy: 0.9932 - val_loss: 0.0913 - val_accuracy: 0.9734 - lr: 1.0000e-05\n",
      "Epoch 11/30\n",
      "340/340 [==============================] - 120s 351ms/step - loss: 0.0209 - accuracy: 0.9943 - val_loss: 0.0888 - val_accuracy: 0.9730 - lr: 1.0000e-06\n",
      "Epoch 12/30\n",
      "340/340 [==============================] - 120s 351ms/step - loss: 0.0209 - accuracy: 0.9940 - val_loss: 0.0876 - val_accuracy: 0.9734 - lr: 1.0000e-06\n",
      "Epoch 13/30\n",
      "340/340 [==============================] - 120s 352ms/step - loss: 0.0193 - accuracy: 0.9947 - val_loss: 0.0873 - val_accuracy: 0.9743 - lr: 1.0000e-06\n",
      "Epoch 14/30\n",
      "340/340 [==============================] - 122s 359ms/step - loss: 0.0185 - accuracy: 0.9958 - val_loss: 0.0849 - val_accuracy: 0.9747 - lr: 1.0000e-06\n",
      "73/73 [==============================] - 5s 70ms/step - loss: 0.0853 - accuracy: 0.9747\n",
      "Updated ResNet50 Test Accuracy: 0.974656343460083\n"
     ]
    }
   ],
   "source": [
    "from tensorflow.keras.applications import ResNet50\n",
    "from tensorflow.keras.layers import GlobalAveragePooling2D, Dense, BatchNormalization, Dropout\n",
    "from tensorflow.keras.callbacks import LearningRateScheduler, EarlyStopping, ModelCheckpoint\n",
    "\n",
    "# ...\n",
    "\n",
    "# Learning Rate Schedule\n",
    "def learning_rate_schedule(epoch):\n",
    "    if epoch < 5:\n",
    "        return 1e-4\n",
    "    elif epoch < 10:\n",
    "        return 1e-5\n",
    "    else:\n",
    "        return 1e-6\n",
    "\n",
    "lr_scheduler = LearningRateScheduler(learning_rate_schedule)\n",
    "\n",
    "# Early Stopping\n",
    "early_stopping = EarlyStopping(monitor='val_accuracy', patience=5, restore_best_weights=True)\n",
    "\n",
    "# Model Checkpointing\n",
    "checkpoint = ModelCheckpoint('/kaggle/working/best_resnet_model.h5', \n",
    "                             monitor='val_accuracy', \n",
    "                             save_best_only=True)\n",
    "\n",
    "# ResNet50\n",
    "resnet_model = Sequential()\n",
    "resnet_model.add(ResNet50(weights='imagenet', include_top=False, input_shape=input_shape))\n",
    "resnet_model.add(GlobalAveragePooling2D())\n",
    "resnet_model.add(BatchNormalization())\n",
    "resnet_model.add(Dense(512, activation='relu'))\n",
    "resnet_model.add(BatchNormalization())\n",
    "resnet_model.add(Dropout(0.5))\n",
    "resnet_model.add(Dense(256, activation='relu'))\n",
    "resnet_model.add(Dense(12, activation='softmax'))\n",
    "\n",
    "# Fine-tune last few layers\n",
    "for layer in resnet_model.layers[:-12]:\n",
    "    layer.trainable = False\n",
    "\n",
    "resnet_model.compile(optimizer='adam', loss='categorical_crossentropy', metrics=['accuracy'])\n",
    "\n",
    "# Train the model\n",
    "history_resnet = resnet_model.fit(train_generator, epochs=30, \n",
    "                                  validation_data=val_generator,\n",
    "                                  callbacks=[lr_scheduler, early_stopping, checkpoint])\n",
    "\n",
    "# Evaluate on the test set\n",
    "test_loss_resnet, test_accuracy_resnet = resnet_model.evaluate(test_generator)\n",
    "print(f\"Updated ResNet50 Test Accuracy: {test_accuracy_resnet}\")\n"
   ]
  },
  {
   "cell_type": "code",
   "execution_count": 18,
   "metadata": {
    "execution": {
     "iopub.execute_input": "2023-11-10T14:23:58.652907Z",
     "iopub.status.busy": "2023-11-10T14:23:58.652560Z",
     "iopub.status.idle": "2023-11-10T14:24:07.985552Z",
     "shell.execute_reply": "2023-11-10T14:24:07.983975Z",
     "shell.execute_reply.started": "2023-11-10T14:23:58.652881Z"
    }
   },
   "outputs": [
    {
     "data": {
      "image/png": "[encoded data removed]",
      "text/plain": [
       "<Figure size 1200x500 with 2 Axes>"
      ]
     },
     "metadata": {},
     "output_type": "display_data"
    },
    {
     "name": "stdout",
     "output_type": "stream",
     "text": [
      "73/73 [==============================] - 5s 58ms/step\n",
      "Classification Report for ResNet50:\n",
      "              precision    recall  f1-score   support\n",
      "\n",
      "           0       0.08      0.08      0.08       142\n",
      "           1       0.08      0.08      0.08       148\n",
      "           2       0.04      0.04      0.04        91\n",
      "           3       0.07      0.07      0.07       134\n",
      "           4       0.35      0.35      0.35       799\n",
      "           5       0.04      0.04      0.04        94\n",
      "           6       0.03      0.03      0.03       115\n",
      "           7       0.07      0.07      0.07       157\n",
      "           8       0.03      0.03      0.03       130\n",
      "           9       0.11      0.11      0.11       297\n",
      "          10       0.05      0.05      0.05       105\n",
      "          11       0.08      0.08      0.08       116\n",
      "\n",
      "    accuracy                           0.17      2328\n",
      "   macro avg       0.09      0.09      0.09      2328\n",
      "weighted avg       0.17      0.17      0.17      2328\n",
      "\n"
     ]
    },
    {
     "data": {
      "image/png": "[encoded data removed]",
      "text/plain": [
       "<Figure size 500x500 with 2 Axes>"
      ]
     },
     "metadata": {},
     "output_type": "display_data"
    }
   ],
   "source": [
    "import matplotlib.pyplot as plt\n",
    "from sklearn.metrics import classification_report, confusion_matrix\n",
    "import numpy as np\n",
    "\n",
    "# Load the best VGG16 model\n",
    "best_resnet_model = load_model('/kaggle/working/best_resnet_model.h5')\n",
    "\n",
    "# Plot training history\n",
    "plt.figure(figsize=(12, 5))\n",
    "\n",
    "# Plot training & validation accuracy values\n",
    "plt.subplot(1, 2, 1)\n",
    "plt.plot(history_resnet.history['accuracy'])\n",
    "plt.plot(history_resnet.history['val_accuracy'])\n",
    "plt.title('Model accuracy')\n",
    "plt.xlabel('Epoch')\n",
    "plt.ylabel('Accuracy')\n",
    "plt.legend(['Train', 'Validation'], loc='upper left')\n",
    "\n",
    "# Plot training & validation loss values\n",
    "plt.subplot(1, 2, 2)\n",
    "plt.plot(history_resnet.history['loss'])\n",
    "plt.plot(history_resnet.history['val_loss'])\n",
    "plt.title('Model loss')\n",
    "plt.xlabel('Epoch')\n",
    "plt.ylabel('Loss')\n",
    "plt.legend(['Train', 'Validation'], loc='upper left')\n",
    "\n",
    "plt.tight_layout()\n",
    "plt.show()\n",
    "\n",
    "# Generate predictions for the test set\n",
    "resnet_predictions = best_resnet_model.predict(test_generator)\n",
    "\n",
    "# Convert predictions to class labels\n",
    "resnet_pred_labels = np.argmax(resnet_predictions, axis=1)\n",
    "\n",
    "# Convert one-hot encoded true labels to class labels\n",
    "true_labels = test_generator.classes\n",
    "\n",
    "# Generate classification report\n",
    "print(\"Classification Report for ResNet50:\")\n",
    "print(classification_report(true_labels, resnet_pred_labels))\n",
    "\n",
    "# Plot confusion matrix\n",
    "conf_mat = confusion_matrix(true_labels, resnet_pred_labels)\n",
    "plt.figure(figsize=(5, 5))\n",
    "plt.imshow(conf_mat, cmap='Blues', interpolation='nearest')\n",
    "plt.title('Confusion Matrix for ResNet50')\n",
    "plt.colorbar()\n",
    "plt.xlabel('Predicted')\n",
    "plt.ylabel('True')\n",
    "plt.show()\n"
   ]
  },
  {
   "cell_type": "code",
   "execution_count": null,
   "metadata": {},
   "outputs": [],
   "source": []
  }
 ],
 "metadata": {
  "kaggle": {
   "accelerator": "gpu",
   "dataSources": [
    {
     "datasetId": 1115942,
     "sourceId": 1874598,
     "sourceType": "datasetVersion"
    }
   ],
   "dockerImageVersionId": 30580,
   "isGpuEnabled": true,
   "isInternetEnabled": true,
   "language": "python",
   "sourceType": "notebook"
  },
  "kernelspec": {
   "display_name": "Python 3 (ipykernel)",
   "language": "python",
   "name": "python3"
  },
  "language_info": {
   "codemirror_mode": {
    "name": "ipython",
    "version": 3
   },
   "file_extension": ".py",
   "mimetype": "text/x-python",
   "name": "python",
   "nbconvert_exporter": "python",
   "pygments_lexer": "ipython3",
   "version": "3.9.12"
  }
 },
 "nbformat": 4,
 "nbformat_minor": 4
}
